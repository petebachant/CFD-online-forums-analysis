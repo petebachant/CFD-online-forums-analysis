{
 "cells": [
  {
   "cell_type": "markdown",
   "metadata": {},
   "source": [
    "# CFD-Online community analysis\n",
    "\n",
    "In this notebook we will examine the most popular CFD software forums on CFD-online.com. "
   ]
  },
  {
   "cell_type": "code",
   "execution_count": null,
   "metadata": {
    "collapsed": false
   },
   "outputs": [],
   "source": [
    "import matplotlib.pyplot as plt\n",
    "%matplotlib inline\n",
    "import seaborn as sns\n",
    "from pxl.styleplot import set_sns\n",
    "set_sns()\n",
    "plt.rcParams[\"axes.grid\"] = True\n",
    "plt.rcParams[\"axes.formatter.limits\"] = (-4, 4)\n",
    "import requests\n",
    "from bs4 import BeautifulSoup\n",
    "import re\n",
    "import pandas as pd\n",
    "import os\n",
    "\n",
    "soup = BeautifulSoup(requests.get(\"http://cfd-online.com/Forums/\").text, \"lxml\")\n",
    "\n",
    "# Find all numbers in tables on the page\n",
    "numbers = soup.find_all(\"td\", text=re.compile(\"\\d+\"))\n",
    "\n",
    "# alt1 class is threads, alt2 class is posts\n",
    "forums = []\n",
    "threads = {}\n",
    "posts = {}\n",
    "\n",
    "for n in numbers:\n",
    "    forum = n.parent.find(\"strong\").text\n",
    "    if not forum in forums:\n",
    "        forums.append(forum)\n",
    "    if \"alt1\" in n.attrs[\"class\"]:\n",
    "        threads[forum] = int(n.text.replace(\",\", \"\"))\n",
    "    elif \"alt2\" in n.attrs[\"class\"]:\n",
    "        posts[forum] = int(n.text.replace(\",\", \"\"))\n",
    "\n",
    "# Create a DataFrame from the dictionaries\n",
    "df = pd.DataFrame(columns=[\"forum\", \"threads\", \"posts\"])\n",
    "\n",
    "for forum in forums:\n",
    "    s = pd.Series()\n",
    "    s[\"forum\"] = forum\n",
    "    s[\"threads\"] = threads[forum]\n",
    "    s[\"posts\"] = posts[forum]\n",
    "    df = df.append(s, ignore_index=True)\n",
    "\n",
    "df = df.set_index(\"forum\")\n",
    "df[\"pt_ratio\"] = df.posts/df.threads"
   ]
  },
  {
   "cell_type": "code",
   "execution_count": null,
   "metadata": {
    "collapsed": false
   },
   "outputs": [],
   "source": [
    "# Create a slice of that DataFrame for only the most popular forums\n",
    "df2 = df[df.posts > 1e4].sort(\"posts\")\n",
    "df2 = df2.drop(\"posts\", 1)\n",
    "\n",
    "fig, (ax1, ax2) = plt.subplots(nrows=1, ncols=2, figsize=(7.5, 3), sharey=True)\n",
    "\n",
    "df2.threads.plot(ax=ax1, kind=\"barh\")\n",
    "df2.pt_ratio.plot(ax=ax2, kind=\"barh\", color=sns.color_palette()[2])\n",
    "\n",
    "ax1.set_ylabel(\"\")\n",
    "ax2.set_ylabel(\"\")\n",
    "ax1.set_xlabel(\"Threads\")\n",
    "ax2.set_xlabel(\"Posts/threads\")\n",
    "fig.tight_layout()\n",
    "\n",
    "if not os.path.isdir(\"figures\"):\n",
    "    os.mkdir(\"figures\")\n",
    "\n",
    "fig.savefig(\"figures/cfd-online.pdf\")\n",
    "\n",
    "plt.show()"
   ]
  }
 ],
 "metadata": {
  "kernelspec": {
   "display_name": "Python 3",
   "language": "python",
   "name": "python3"
  },
  "language_info": {
   "codemirror_mode": {
    "name": "ipython",
    "version": 3
   },
   "file_extension": ".py",
   "mimetype": "text/x-python",
   "name": "python",
   "nbconvert_exporter": "python",
   "pygments_lexer": "ipython3",
   "version": "3.4.3"
  }
 },
 "nbformat": 4,
 "nbformat_minor": 0
}
